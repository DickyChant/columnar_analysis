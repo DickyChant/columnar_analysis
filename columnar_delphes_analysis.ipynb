{
 "cells": [
  {
   "cell_type": "markdown",
   "metadata": {},
   "source": [
    "# Columnar data analysis using uproot4/akward1/coffea"
   ]
  },
  {
   "cell_type": "markdown",
   "metadata": {},
   "source": [
    "## Analyzing Delphes ROOT file"
   ]
  },
  {
   "cell_type": "code",
   "execution_count": 1,
   "metadata": {},
   "outputs": [],
   "source": [
    "import uproot4 as uproot\n",
    "import awkward1 as ak\n",
    "import numpy as np"
   ]
  },
  {
   "cell_type": "markdown",
   "metadata": {},
   "source": [
    "Load the root file in a lazy way (new feature for uproot4)"
   ]
  },
  {
   "cell_type": "code",
   "execution_count": 2,
   "metadata": {},
   "outputs": [],
   "source": [
    "tree = uproot.lazy('ttbar_delphes.root:Delphes', step_size='5000 MB') # this file has 45 GB"
   ]
  },
  {
   "cell_type": "markdown",
   "metadata": {},
   "source": [
    "See the branches"
   ]
  },
  {
   "cell_type": "code",
   "execution_count": 3,
   "metadata": {},
   "outputs": [
    {
     "data": {
      "text/plain": [
       "['Event',\n",
       " 'Event/Event.fUniqueID',\n",
       " 'Event/Event.fBits',\n",
       " 'Event/Event.Number',\n",
       " 'Event/Event.ReadTime',\n",
       " 'Event/Event.ProcTime',\n",
       " 'Event/Event.ProcessID',\n",
       " 'Event/Event.MPI',\n",
       " 'Event/Event.Weight',\n",
       " 'Event/Event.CrossSection',\n",
       " 'Event/Event.CrossSectionError',\n",
       " 'Event/Event.Scale',\n",
       " 'Event/Event.AlphaQED',\n",
       " 'Event/Event.AlphaQCD',\n",
       " 'Event/Event.ID1',\n",
       " 'Event/Event.ID2',\n",
       " 'Event/Event.X1',\n",
       " 'Event/Event.X2',\n",
       " 'Event/Event.ScalePDF',\n",
       " 'Event/Event.PDF1',\n",
       " 'Event/Event.PDF2',\n",
       " 'Event_size',\n",
       " 'Weight',\n",
       " 'Weight/Weight.fUniqueID',\n",
       " 'Weight/Weight.fBits',\n",
       " 'Weight/Weight.Weight',\n",
       " 'Weight_size',\n",
       " 'Particle',\n",
       " 'Particle/Particle.fUniqueID',\n",
       " 'Particle/Particle.fBits',\n",
       " 'Particle/Particle.PID',\n",
       " 'Particle/Particle.Status',\n",
       " 'Particle/Particle.IsPU',\n",
       " 'Particle/Particle.M1',\n",
       " 'Particle/Particle.M2',\n",
       " 'Particle/Particle.D1',\n",
       " 'Particle/Particle.D2',\n",
       " 'Particle/Particle.Charge',\n",
       " 'Particle/Particle.Mass',\n",
       " 'Particle/Particle.E',\n",
       " 'Particle/Particle.Px',\n",
       " 'Particle/Particle.Py',\n",
       " 'Particle/Particle.Pz',\n",
       " 'Particle/Particle.P',\n",
       " 'Particle/Particle.PT',\n",
       " 'Particle/Particle.Eta',\n",
       " 'Particle/Particle.Phi',\n",
       " 'Particle/Particle.Rapidity',\n",
       " 'Particle/Particle.CtgTheta',\n",
       " 'Particle/Particle.D0',\n",
       " 'Particle/Particle.DZ',\n",
       " 'Particle/Particle.T',\n",
       " 'Particle/Particle.X',\n",
       " 'Particle/Particle.Y',\n",
       " 'Particle/Particle.Z',\n",
       " 'Particle_size',\n",
       " 'Track',\n",
       " 'Track/Track.fUniqueID',\n",
       " 'Track/Track.fBits',\n",
       " 'Track/Track.PID',\n",
       " 'Track/Track.Charge',\n",
       " 'Track/Track.P',\n",
       " 'Track/Track.PT',\n",
       " 'Track/Track.Eta',\n",
       " 'Track/Track.Phi',\n",
       " 'Track/Track.CtgTheta',\n",
       " 'Track/Track.EtaOuter',\n",
       " 'Track/Track.PhiOuter',\n",
       " 'Track/Track.T',\n",
       " 'Track/Track.X',\n",
       " 'Track/Track.Y',\n",
       " 'Track/Track.Z',\n",
       " 'Track/Track.TOuter',\n",
       " 'Track/Track.XOuter',\n",
       " 'Track/Track.YOuter',\n",
       " 'Track/Track.ZOuter',\n",
       " 'Track/Track.Xd',\n",
       " 'Track/Track.Yd',\n",
       " 'Track/Track.Zd',\n",
       " 'Track/Track.L',\n",
       " 'Track/Track.D0',\n",
       " 'Track/Track.DZ',\n",
       " 'Track/Track.ErrorP',\n",
       " 'Track/Track.ErrorPT',\n",
       " 'Track/Track.ErrorPhi',\n",
       " 'Track/Track.ErrorCtgTheta',\n",
       " 'Track/Track.ErrorT',\n",
       " 'Track/Track.ErrorD0',\n",
       " 'Track/Track.ErrorDZ',\n",
       " 'Track/Track.Particle',\n",
       " 'Track/Track.VertexIndex',\n",
       " 'Track_size',\n",
       " 'Tower',\n",
       " 'Tower/Tower.fUniqueID',\n",
       " 'Tower/Tower.fBits',\n",
       " 'Tower/Tower.ET',\n",
       " 'Tower/Tower.Eta',\n",
       " 'Tower/Tower.Phi',\n",
       " 'Tower/Tower.E',\n",
       " 'Tower/Tower.T',\n",
       " 'Tower/Tower.NTimeHits',\n",
       " 'Tower/Tower.Eem',\n",
       " 'Tower/Tower.Ehad',\n",
       " 'Tower/Tower.Edges[4]',\n",
       " 'Tower/Tower.Particles',\n",
       " 'Tower_size',\n",
       " 'EFlowTrack',\n",
       " 'EFlowTrack/EFlowTrack.fUniqueID',\n",
       " 'EFlowTrack/EFlowTrack.fBits',\n",
       " 'EFlowTrack/EFlowTrack.PID',\n",
       " 'EFlowTrack/EFlowTrack.Charge',\n",
       " 'EFlowTrack/EFlowTrack.P',\n",
       " 'EFlowTrack/EFlowTrack.PT',\n",
       " 'EFlowTrack/EFlowTrack.Eta',\n",
       " 'EFlowTrack/EFlowTrack.Phi',\n",
       " 'EFlowTrack/EFlowTrack.CtgTheta',\n",
       " 'EFlowTrack/EFlowTrack.EtaOuter',\n",
       " 'EFlowTrack/EFlowTrack.PhiOuter',\n",
       " 'EFlowTrack/EFlowTrack.T',\n",
       " 'EFlowTrack/EFlowTrack.X',\n",
       " 'EFlowTrack/EFlowTrack.Y',\n",
       " 'EFlowTrack/EFlowTrack.Z',\n",
       " 'EFlowTrack/EFlowTrack.TOuter',\n",
       " 'EFlowTrack/EFlowTrack.XOuter',\n",
       " 'EFlowTrack/EFlowTrack.YOuter',\n",
       " 'EFlowTrack/EFlowTrack.ZOuter',\n",
       " 'EFlowTrack/EFlowTrack.Xd',\n",
       " 'EFlowTrack/EFlowTrack.Yd',\n",
       " 'EFlowTrack/EFlowTrack.Zd',\n",
       " 'EFlowTrack/EFlowTrack.L',\n",
       " 'EFlowTrack/EFlowTrack.D0',\n",
       " 'EFlowTrack/EFlowTrack.DZ',\n",
       " 'EFlowTrack/EFlowTrack.ErrorP',\n",
       " 'EFlowTrack/EFlowTrack.ErrorPT',\n",
       " 'EFlowTrack/EFlowTrack.ErrorPhi',\n",
       " 'EFlowTrack/EFlowTrack.ErrorCtgTheta',\n",
       " 'EFlowTrack/EFlowTrack.ErrorT',\n",
       " 'EFlowTrack/EFlowTrack.ErrorD0',\n",
       " 'EFlowTrack/EFlowTrack.ErrorDZ',\n",
       " 'EFlowTrack/EFlowTrack.Particle',\n",
       " 'EFlowTrack/EFlowTrack.VertexIndex',\n",
       " 'EFlowTrack_size',\n",
       " 'EFlowPhoton',\n",
       " 'EFlowPhoton/EFlowPhoton.fUniqueID',\n",
       " 'EFlowPhoton/EFlowPhoton.fBits',\n",
       " 'EFlowPhoton/EFlowPhoton.ET',\n",
       " 'EFlowPhoton/EFlowPhoton.Eta',\n",
       " 'EFlowPhoton/EFlowPhoton.Phi',\n",
       " 'EFlowPhoton/EFlowPhoton.E',\n",
       " 'EFlowPhoton/EFlowPhoton.T',\n",
       " 'EFlowPhoton/EFlowPhoton.NTimeHits',\n",
       " 'EFlowPhoton/EFlowPhoton.Eem',\n",
       " 'EFlowPhoton/EFlowPhoton.Ehad',\n",
       " 'EFlowPhoton/EFlowPhoton.Edges[4]',\n",
       " 'EFlowPhoton/EFlowPhoton.Particles',\n",
       " 'EFlowPhoton_size',\n",
       " 'EFlowNeutralHadron',\n",
       " 'EFlowNeutralHadron/EFlowNeutralHadron.fUniqueID',\n",
       " 'EFlowNeutralHadron/EFlowNeutralHadron.fBits',\n",
       " 'EFlowNeutralHadron/EFlowNeutralHadron.ET',\n",
       " 'EFlowNeutralHadron/EFlowNeutralHadron.Eta',\n",
       " 'EFlowNeutralHadron/EFlowNeutralHadron.Phi',\n",
       " 'EFlowNeutralHadron/EFlowNeutralHadron.E',\n",
       " 'EFlowNeutralHadron/EFlowNeutralHadron.T',\n",
       " 'EFlowNeutralHadron/EFlowNeutralHadron.NTimeHits',\n",
       " 'EFlowNeutralHadron/EFlowNeutralHadron.Eem',\n",
       " 'EFlowNeutralHadron/EFlowNeutralHadron.Ehad',\n",
       " 'EFlowNeutralHadron/EFlowNeutralHadron.Edges[4]',\n",
       " 'EFlowNeutralHadron/EFlowNeutralHadron.Particles',\n",
       " 'EFlowNeutralHadron_size',\n",
       " 'GenJet',\n",
       " 'GenJet/GenJet.fUniqueID',\n",
       " 'GenJet/GenJet.fBits',\n",
       " 'GenJet/GenJet.PT',\n",
       " 'GenJet/GenJet.Eta',\n",
       " 'GenJet/GenJet.Phi',\n",
       " 'GenJet/GenJet.T',\n",
       " 'GenJet/GenJet.Mass',\n",
       " 'GenJet/GenJet.DeltaEta',\n",
       " 'GenJet/GenJet.DeltaPhi',\n",
       " 'GenJet/GenJet.Flavor',\n",
       " 'GenJet/GenJet.FlavorAlgo',\n",
       " 'GenJet/GenJet.FlavorPhys',\n",
       " 'GenJet/GenJet.BTag',\n",
       " 'GenJet/GenJet.BTagAlgo',\n",
       " 'GenJet/GenJet.BTagPhys',\n",
       " 'GenJet/GenJet.TauTag',\n",
       " 'GenJet/GenJet.TauWeight',\n",
       " 'GenJet/GenJet.Charge',\n",
       " 'GenJet/GenJet.EhadOverEem',\n",
       " 'GenJet/GenJet.NCharged',\n",
       " 'GenJet/GenJet.NNeutrals',\n",
       " 'GenJet/GenJet.Beta',\n",
       " 'GenJet/GenJet.BetaStar',\n",
       " 'GenJet/GenJet.MeanSqDeltaR',\n",
       " 'GenJet/GenJet.PTD',\n",
       " 'GenJet/GenJet.FracPt[5]',\n",
       " 'GenJet/GenJet.Tau[5]',\n",
       " 'GenJet/GenJet.SoftDroppedJet',\n",
       " 'GenJet/GenJet.SoftDroppedSubJet1',\n",
       " 'GenJet/GenJet.SoftDroppedSubJet2',\n",
       " 'GenJet/GenJet.TrimmedP4[5]',\n",
       " 'GenJet/GenJet.PrunedP4[5]',\n",
       " 'GenJet/GenJet.SoftDroppedP4[5]',\n",
       " 'GenJet/GenJet.NSubJetsTrimmed',\n",
       " 'GenJet/GenJet.NSubJetsPruned',\n",
       " 'GenJet/GenJet.NSubJetsSoftDropped',\n",
       " 'GenJet/GenJet.ExclYmerge23',\n",
       " 'GenJet/GenJet.ExclYmerge34',\n",
       " 'GenJet/GenJet.ExclYmerge45',\n",
       " 'GenJet/GenJet.ExclYmerge56',\n",
       " 'GenJet/GenJet.Constituents',\n",
       " 'GenJet/GenJet.Particles',\n",
       " 'GenJet/GenJet.Area',\n",
       " 'GenJet_size',\n",
       " 'GenMissingET',\n",
       " 'GenMissingET/GenMissingET.fUniqueID',\n",
       " 'GenMissingET/GenMissingET.fBits',\n",
       " 'GenMissingET/GenMissingET.MET',\n",
       " 'GenMissingET/GenMissingET.Eta',\n",
       " 'GenMissingET/GenMissingET.Phi',\n",
       " 'GenMissingET_size',\n",
       " 'Jet',\n",
       " 'Jet/Jet.fUniqueID',\n",
       " 'Jet/Jet.fBits',\n",
       " 'Jet/Jet.PT',\n",
       " 'Jet/Jet.Eta',\n",
       " 'Jet/Jet.Phi',\n",
       " 'Jet/Jet.T',\n",
       " 'Jet/Jet.Mass',\n",
       " 'Jet/Jet.DeltaEta',\n",
       " 'Jet/Jet.DeltaPhi',\n",
       " 'Jet/Jet.Flavor',\n",
       " 'Jet/Jet.FlavorAlgo',\n",
       " 'Jet/Jet.FlavorPhys',\n",
       " 'Jet/Jet.BTag',\n",
       " 'Jet/Jet.BTagAlgo',\n",
       " 'Jet/Jet.BTagPhys',\n",
       " 'Jet/Jet.TauTag',\n",
       " 'Jet/Jet.TauWeight',\n",
       " 'Jet/Jet.Charge',\n",
       " 'Jet/Jet.EhadOverEem',\n",
       " 'Jet/Jet.NCharged',\n",
       " 'Jet/Jet.NNeutrals',\n",
       " 'Jet/Jet.Beta',\n",
       " 'Jet/Jet.BetaStar',\n",
       " 'Jet/Jet.MeanSqDeltaR',\n",
       " 'Jet/Jet.PTD',\n",
       " 'Jet/Jet.FracPt[5]',\n",
       " 'Jet/Jet.Tau[5]',\n",
       " 'Jet/Jet.SoftDroppedJet',\n",
       " 'Jet/Jet.SoftDroppedSubJet1',\n",
       " 'Jet/Jet.SoftDroppedSubJet2',\n",
       " 'Jet/Jet.TrimmedP4[5]',\n",
       " 'Jet/Jet.PrunedP4[5]',\n",
       " 'Jet/Jet.SoftDroppedP4[5]',\n",
       " 'Jet/Jet.NSubJetsTrimmed',\n",
       " 'Jet/Jet.NSubJetsPruned',\n",
       " 'Jet/Jet.NSubJetsSoftDropped',\n",
       " 'Jet/Jet.ExclYmerge23',\n",
       " 'Jet/Jet.ExclYmerge34',\n",
       " 'Jet/Jet.ExclYmerge45',\n",
       " 'Jet/Jet.ExclYmerge56',\n",
       " 'Jet/Jet.Constituents',\n",
       " 'Jet/Jet.Particles',\n",
       " 'Jet/Jet.Area',\n",
       " 'Jet_size',\n",
       " 'Electron',\n",
       " 'Electron/Electron.fUniqueID',\n",
       " 'Electron/Electron.fBits',\n",
       " 'Electron/Electron.PT',\n",
       " 'Electron/Electron.Eta',\n",
       " 'Electron/Electron.Phi',\n",
       " 'Electron/Electron.T',\n",
       " 'Electron/Electron.Charge',\n",
       " 'Electron/Electron.EhadOverEem',\n",
       " 'Electron/Electron.Particle',\n",
       " 'Electron/Electron.IsolationVar',\n",
       " 'Electron/Electron.IsolationVarRhoCorr',\n",
       " 'Electron/Electron.SumPtCharged',\n",
       " 'Electron/Electron.SumPtNeutral',\n",
       " 'Electron/Electron.SumPtChargedPU',\n",
       " 'Electron/Electron.SumPt',\n",
       " 'Electron/Electron.D0',\n",
       " 'Electron/Electron.DZ',\n",
       " 'Electron/Electron.ErrorD0',\n",
       " 'Electron/Electron.ErrorDZ',\n",
       " 'Electron_size',\n",
       " 'Photon',\n",
       " 'Photon/Photon.fUniqueID',\n",
       " 'Photon/Photon.fBits',\n",
       " 'Photon/Photon.PT',\n",
       " 'Photon/Photon.Eta',\n",
       " 'Photon/Photon.Phi',\n",
       " 'Photon/Photon.E',\n",
       " 'Photon/Photon.T',\n",
       " 'Photon/Photon.EhadOverEem',\n",
       " 'Photon/Photon.Particles',\n",
       " 'Photon/Photon.IsolationVar',\n",
       " 'Photon/Photon.IsolationVarRhoCorr',\n",
       " 'Photon/Photon.SumPtCharged',\n",
       " 'Photon/Photon.SumPtNeutral',\n",
       " 'Photon/Photon.SumPtChargedPU',\n",
       " 'Photon/Photon.SumPt',\n",
       " 'Photon/Photon.Status',\n",
       " 'Photon_size',\n",
       " 'Muon',\n",
       " 'Muon/Muon.fUniqueID',\n",
       " 'Muon/Muon.fBits',\n",
       " 'Muon/Muon.PT',\n",
       " 'Muon/Muon.Eta',\n",
       " 'Muon/Muon.Phi',\n",
       " 'Muon/Muon.T',\n",
       " 'Muon/Muon.Charge',\n",
       " 'Muon/Muon.Particle',\n",
       " 'Muon/Muon.IsolationVar',\n",
       " 'Muon/Muon.IsolationVarRhoCorr',\n",
       " 'Muon/Muon.SumPtCharged',\n",
       " 'Muon/Muon.SumPtNeutral',\n",
       " 'Muon/Muon.SumPtChargedPU',\n",
       " 'Muon/Muon.SumPt',\n",
       " 'Muon/Muon.D0',\n",
       " 'Muon/Muon.DZ',\n",
       " 'Muon/Muon.ErrorD0',\n",
       " 'Muon/Muon.ErrorDZ',\n",
       " 'Muon_size',\n",
       " 'FatJet',\n",
       " 'FatJet/FatJet.fUniqueID',\n",
       " 'FatJet/FatJet.fBits',\n",
       " 'FatJet/FatJet.PT',\n",
       " 'FatJet/FatJet.Eta',\n",
       " 'FatJet/FatJet.Phi',\n",
       " 'FatJet/FatJet.T',\n",
       " 'FatJet/FatJet.Mass',\n",
       " 'FatJet/FatJet.DeltaEta',\n",
       " 'FatJet/FatJet.DeltaPhi',\n",
       " 'FatJet/FatJet.Flavor',\n",
       " 'FatJet/FatJet.FlavorAlgo',\n",
       " 'FatJet/FatJet.FlavorPhys',\n",
       " 'FatJet/FatJet.BTag',\n",
       " 'FatJet/FatJet.BTagAlgo',\n",
       " 'FatJet/FatJet.BTagPhys',\n",
       " 'FatJet/FatJet.TauTag',\n",
       " 'FatJet/FatJet.TauWeight',\n",
       " 'FatJet/FatJet.Charge',\n",
       " 'FatJet/FatJet.EhadOverEem',\n",
       " 'FatJet/FatJet.NCharged',\n",
       " 'FatJet/FatJet.NNeutrals',\n",
       " 'FatJet/FatJet.Beta',\n",
       " 'FatJet/FatJet.BetaStar',\n",
       " 'FatJet/FatJet.MeanSqDeltaR',\n",
       " 'FatJet/FatJet.PTD',\n",
       " 'FatJet/FatJet.FracPt[5]',\n",
       " 'FatJet/FatJet.Tau[5]',\n",
       " 'FatJet/FatJet.SoftDroppedJet',\n",
       " 'FatJet/FatJet.SoftDroppedSubJet1',\n",
       " 'FatJet/FatJet.SoftDroppedSubJet2',\n",
       " 'FatJet/FatJet.TrimmedP4[5]',\n",
       " 'FatJet/FatJet.PrunedP4[5]',\n",
       " 'FatJet/FatJet.SoftDroppedP4[5]',\n",
       " 'FatJet/FatJet.NSubJetsTrimmed',\n",
       " 'FatJet/FatJet.NSubJetsPruned',\n",
       " 'FatJet/FatJet.NSubJetsSoftDropped',\n",
       " 'FatJet/FatJet.ExclYmerge23',\n",
       " 'FatJet/FatJet.ExclYmerge34',\n",
       " 'FatJet/FatJet.ExclYmerge45',\n",
       " 'FatJet/FatJet.ExclYmerge56',\n",
       " 'FatJet/FatJet.Constituents',\n",
       " 'FatJet/FatJet.Particles',\n",
       " 'FatJet/FatJet.Area',\n",
       " 'FatJet_size',\n",
       " 'MissingET',\n",
       " 'MissingET/MissingET.fUniqueID',\n",
       " 'MissingET/MissingET.fBits',\n",
       " 'MissingET/MissingET.MET',\n",
       " 'MissingET/MissingET.Eta',\n",
       " 'MissingET/MissingET.Phi',\n",
       " 'MissingET_size',\n",
       " 'ScalarHT',\n",
       " 'ScalarHT/ScalarHT.fUniqueID',\n",
       " 'ScalarHT/ScalarHT.fBits',\n",
       " 'ScalarHT/ScalarHT.HT',\n",
       " 'ScalarHT_size']"
      ]
     },
     "execution_count": 3,
     "metadata": {},
     "output_type": "execute_result"
    }
   ],
   "source": [
    "uproot.open('ttbar_delphes.root:Delphes').keys() ## not yet find a smarter way.."
   ]
  },
  {
   "cell_type": "markdown",
   "metadata": {},
   "source": [
    "Access the branches. Note that lazy framework only access to data when necessary\n",
    "\n",
    "See the structure of `Jet.PT`"
   ]
  },
  {
   "cell_type": "code",
   "execution_count": 4,
   "metadata": {},
   "outputs": [
    {
     "name": "stdout",
     "output_type": "stream",
     "text": [
      "[[297, 159, 68.4, 50.5, 35.1], [641, 529, ... [550, 481, 116, 82.6, 66.8, 63.4, 57]]\n"
     ]
    }
   ],
   "source": [
    "print(tree['Jet.PT'])"
   ]
  },
  {
   "cell_type": "markdown",
   "metadata": {},
   "source": [
    "The array is in a 2D nested structure with irregular length. \n",
    "\n",
    "View the 1st event?"
   ]
  },
  {
   "cell_type": "code",
   "execution_count": 5,
   "metadata": {},
   "outputs": [
    {
     "name": "stdout",
     "output_type": "stream",
     "text": [
      "[297, 159, 68.4, 50.5, 35.1]\n"
     ]
    }
   ],
   "source": [
    "print(tree['Jet.PT'][0])"
   ]
  },
  {
   "cell_type": "markdown",
   "metadata": {},
   "source": [
    "Access to the leading jet pT"
   ]
  },
  {
   "cell_type": "code",
   "execution_count": 6,
   "metadata": {},
   "outputs": [
    {
     "name": "stdout",
     "output_type": "stream",
     "text": [
      "[297, 641, 329, 458, 416, 588, 202, 228, 226, 347]\n"
     ]
    }
   ],
   "source": [
    "print(tree['Jet.PT'][0:10, 0])"
   ]
  },
  {
   "cell_type": "markdown",
   "metadata": {},
   "source": [
    "These are features in awkward-array1, more convenient than numpy or pandas to process irregular arrays.\n",
    "\n",
    "However, when we try"
   ]
  },
  {
   "cell_type": "code",
   "execution_count": 7,
   "metadata": {},
   "outputs": [
    {
     "ename": "ValueError",
     "evalue": "in ListArray64 attempting to get 0, index out of range\n\n(https://github.com/scikit-hep/awkward-1.0/blob/0.4.5/src/cpu-kernels/awkward_NumpyArray_getitem_next_at.cpp#L21)",
     "output_type": "error",
     "traceback": [
      "\u001b[0;31m---------------------------------------------------------------------------\u001b[0m",
      "\u001b[0;31mValueError\u001b[0m                                Traceback (most recent call last)",
      "\u001b[0;32m<ipython-input-7-96d2b17121d5>\u001b[0m in \u001b[0;36m<module>\u001b[0;34m\u001b[0m\n\u001b[0;32m----> 1\u001b[0;31m \u001b[0mprint\u001b[0m\u001b[0;34m(\u001b[0m\u001b[0mtree\u001b[0m\u001b[0;34m[\u001b[0m\u001b[0;34m'Jet.PT'\u001b[0m\u001b[0;34m]\u001b[0m\u001b[0;34m[\u001b[0m\u001b[0;34m:\u001b[0m\u001b[0;34m,\u001b[0m\u001b[0;36m0\u001b[0m\u001b[0;34m]\u001b[0m\u001b[0;34m)\u001b[0m\u001b[0;34m\u001b[0m\u001b[0;34m\u001b[0m\u001b[0m\n\u001b[0m",
      "\u001b[0;32m~/utils/miniconda3/lib/python3.8/site-packages/awkward1/highlevel.py\u001b[0m in \u001b[0;36m__getitem__\u001b[0;34m(self, where)\u001b[0m\n\u001b[1;32m    962\u001b[0m         \u001b[0mhave\u001b[0m \u001b[0mthe\u001b[0m \u001b[0msame\u001b[0m \u001b[0mdimension\u001b[0m \u001b[0;32mas\u001b[0m \u001b[0mthe\u001b[0m \u001b[0marray\u001b[0m \u001b[0mbeing\u001b[0m \u001b[0mindexed\u001b[0m\u001b[0;34m.\u001b[0m\u001b[0;34m\u001b[0m\u001b[0;34m\u001b[0m\u001b[0m\n\u001b[1;32m    963\u001b[0m         \"\"\"\n\u001b[0;32m--> 964\u001b[0;31m         \u001b[0;32mreturn\u001b[0m \u001b[0mawkward1\u001b[0m\u001b[0;34m.\u001b[0m\u001b[0m_util\u001b[0m\u001b[0;34m.\u001b[0m\u001b[0mwrap\u001b[0m\u001b[0;34m(\u001b[0m\u001b[0mself\u001b[0m\u001b[0;34m.\u001b[0m\u001b[0m_layout\u001b[0m\u001b[0;34m[\u001b[0m\u001b[0mwhere\u001b[0m\u001b[0;34m]\u001b[0m\u001b[0;34m,\u001b[0m \u001b[0mself\u001b[0m\u001b[0;34m.\u001b[0m\u001b[0m_behavior\u001b[0m\u001b[0;34m)\u001b[0m\u001b[0;34m\u001b[0m\u001b[0;34m\u001b[0m\u001b[0m\n\u001b[0m\u001b[1;32m    965\u001b[0m \u001b[0;34m\u001b[0m\u001b[0m\n\u001b[1;32m    966\u001b[0m     \u001b[0;32mdef\u001b[0m \u001b[0m__setitem__\u001b[0m\u001b[0;34m(\u001b[0m\u001b[0mself\u001b[0m\u001b[0;34m,\u001b[0m \u001b[0mwhere\u001b[0m\u001b[0;34m,\u001b[0m \u001b[0mwhat\u001b[0m\u001b[0;34m)\u001b[0m\u001b[0;34m:\u001b[0m\u001b[0;34m\u001b[0m\u001b[0;34m\u001b[0m\u001b[0m\n",
      "\u001b[0;32m~/utils/miniconda3/lib/python3.8/site-packages/awkward1/partition.py\u001b[0m in \u001b[0;36m__getitem__\u001b[0;34m(self, where)\u001b[0m\n\u001b[1;32m    428\u001b[0m                 ).partitions\n\u001b[1;32m    429\u001b[0m                 return IrregularlyPartitionedArray(\n\u001b[0;32m--> 430\u001b[0;31m                     \u001b[0;34m[\u001b[0m\u001b[0mx\u001b[0m\u001b[0;34m[\u001b[0m\u001b[0;34m(\u001b[0m\u001b[0mslice\u001b[0m\u001b[0;34m(\u001b[0m\u001b[0;32mNone\u001b[0m\u001b[0;34m)\u001b[0m\u001b[0;34m,\u001b[0m\u001b[0;34m)\u001b[0m \u001b[0;34m+\u001b[0m \u001b[0mtail\u001b[0m\u001b[0;34m]\u001b[0m \u001b[0;32mfor\u001b[0m \u001b[0mx\u001b[0m \u001b[0;32min\u001b[0m \u001b[0mpartitions\u001b[0m\u001b[0;34m]\u001b[0m\u001b[0;34m\u001b[0m\u001b[0;34m\u001b[0m\u001b[0m\n\u001b[0m\u001b[1;32m    431\u001b[0m                 )\n\u001b[1;32m    432\u001b[0m \u001b[0;34m\u001b[0m\u001b[0m\n",
      "\u001b[0;32m~/utils/miniconda3/lib/python3.8/site-packages/awkward1/partition.py\u001b[0m in \u001b[0;36m<listcomp>\u001b[0;34m(.0)\u001b[0m\n\u001b[1;32m    428\u001b[0m                 ).partitions\n\u001b[1;32m    429\u001b[0m                 return IrregularlyPartitionedArray(\n\u001b[0;32m--> 430\u001b[0;31m                     \u001b[0;34m[\u001b[0m\u001b[0mx\u001b[0m\u001b[0;34m[\u001b[0m\u001b[0;34m(\u001b[0m\u001b[0mslice\u001b[0m\u001b[0;34m(\u001b[0m\u001b[0;32mNone\u001b[0m\u001b[0;34m)\u001b[0m\u001b[0;34m,\u001b[0m\u001b[0;34m)\u001b[0m \u001b[0;34m+\u001b[0m \u001b[0mtail\u001b[0m\u001b[0;34m]\u001b[0m \u001b[0;32mfor\u001b[0m \u001b[0mx\u001b[0m \u001b[0;32min\u001b[0m \u001b[0mpartitions\u001b[0m\u001b[0;34m]\u001b[0m\u001b[0;34m\u001b[0m\u001b[0;34m\u001b[0m\u001b[0m\n\u001b[0m\u001b[1;32m    431\u001b[0m                 )\n\u001b[1;32m    432\u001b[0m \u001b[0;34m\u001b[0m\u001b[0m\n",
      "\u001b[0;31mValueError\u001b[0m: in ListArray64 attempting to get 0, index out of range\n\n(https://github.com/scikit-hep/awkward-1.0/blob/0.4.5/src/cpu-kernels/awkward_NumpyArray_getitem_next_at.cpp#L21)"
     ]
    }
   ],
   "source": [
    "print(tree['Jet.PT'][:,0])"
   ]
  },
  {
   "cell_type": "markdown",
   "metadata": {},
   "source": [
    "This is because some event has zero length, so you cannot simply retrieve its leading entry. Can we bypass this issue?\n",
    "\n",
    "-----------\n",
    "\n",
    "### Brief look into Awkward-array\n",
    "See some illustration on the interesting features on awkward-array (1.0)"
   ]
  },
  {
   "cell_type": "code",
   "execution_count": 8,
   "metadata": {},
   "outputs": [
    {
     "name": "stdout",
     "output_type": "stream",
     "text": [
      "[[2, 3, 4], [5, 6], [], [7], [8, 9]]\n",
      "[[1, 1.41, 1.73], [2, 2.24], [], [2.45], [2.65, 2.83]]\n",
      "[[False, True, False], [True, False], [], [True], [False, True]]\n"
     ]
    }
   ],
   "source": [
    "arr = ak.Array([[1,2,3], [4,5], [], [6], [7,8]]) ## you can simply build an awkward-array this way\n",
    "print(arr + 1)\n",
    "print(np.sqrt(arr))\n",
    "print(arr % 2 == 0)"
   ]
  },
  {
   "cell_type": "markdown",
   "metadata": {},
   "source": [
    "Some simple calculation"
   ]
  },
  {
   "cell_type": "code",
   "execution_count": 9,
   "metadata": {},
   "outputs": [
    {
     "name": "stdout",
     "output_type": "stream",
     "text": [
      "[[2, 3, 4], [5, 6], [], [7], [8, 9]]\n",
      "[[1, 1.41, 1.73], [2, 2.24], [], [2.45], [2.65, 2.83]]\n",
      "[[False, True, False], [True, False], [], [True], [False, True]]\n"
     ]
    }
   ],
   "source": [
    "print(arr + 1)\n",
    "print(np.sqrt(arr))\n",
    "print(arr % 2 == 0)"
   ]
  },
  {
   "cell_type": "markdown",
   "metadata": {},
   "source": [
    "Some functions supported by awkward-array"
   ]
  },
  {
   "cell_type": "code",
   "execution_count": 10,
   "metadata": {},
   "outputs": [
    {
     "name": "stdout",
     "output_type": "stream",
     "text": [
      "[3, 2, 0, 1, 2]\n",
      "[6, 9, 0, 6, 15]\n"
     ]
    }
   ],
   "source": [
    "print(ak.num(arr))\n",
    "print(ak.sum(arr, axis=1))"
   ]
  },
  {
   "cell_type": "markdown",
   "metadata": {},
   "source": [
    "Array indexing"
   ]
  },
  {
   "cell_type": "code",
   "execution_count": 11,
   "metadata": {},
   "outputs": [
    {
     "name": "stdout",
     "output_type": "stream",
     "text": [
      "[1, 2, 3]\n",
      "1\n",
      "[[1, 2, 3], []]\n",
      "[1, 3]\n"
     ]
    },
    {
     "ename": "ValueError",
     "evalue": "in ListArray64 attempting to get 0, index out of range\n\n(https://github.com/scikit-hep/awkward-1.0/blob/0.4.5/src/cpu-kernels/awkward_NumpyArray_getitem_next_at.cpp#L21)",
     "output_type": "error",
     "traceback": [
      "\u001b[0;31m---------------------------------------------------------------------------\u001b[0m",
      "\u001b[0;31mValueError\u001b[0m                                Traceback (most recent call last)",
      "\u001b[0;32m<ipython-input-11-b13df7bfabec>\u001b[0m in \u001b[0;36m<module>\u001b[0;34m\u001b[0m\n\u001b[1;32m      3\u001b[0m \u001b[0mprint\u001b[0m\u001b[0;34m(\u001b[0m\u001b[0marr\u001b[0m\u001b[0;34m[\u001b[0m\u001b[0;34m[\u001b[0m\u001b[0;36m0\u001b[0m\u001b[0;34m,\u001b[0m\u001b[0;36m2\u001b[0m\u001b[0;34m]\u001b[0m\u001b[0;34m]\u001b[0m\u001b[0;34m)\u001b[0m\u001b[0;34m\u001b[0m\u001b[0;34m\u001b[0m\u001b[0m\n\u001b[1;32m      4\u001b[0m \u001b[0mprint\u001b[0m\u001b[0;34m(\u001b[0m\u001b[0marr\u001b[0m\u001b[0;34m[\u001b[0m\u001b[0;36m0\u001b[0m\u001b[0;34m,\u001b[0m \u001b[0;34m[\u001b[0m\u001b[0;36m0\u001b[0m\u001b[0;34m,\u001b[0m\u001b[0;36m2\u001b[0m\u001b[0;34m]\u001b[0m\u001b[0;34m]\u001b[0m\u001b[0;34m)\u001b[0m\u001b[0;34m\u001b[0m\u001b[0;34m\u001b[0m\u001b[0m\n\u001b[0;32m----> 5\u001b[0;31m \u001b[0mprint\u001b[0m\u001b[0;34m(\u001b[0m\u001b[0marr\u001b[0m\u001b[0;34m[\u001b[0m\u001b[0;34m:\u001b[0m\u001b[0;34m,\u001b[0m \u001b[0;36m0\u001b[0m\u001b[0;34m]\u001b[0m\u001b[0;34m)\u001b[0m\u001b[0;34m\u001b[0m\u001b[0;34m\u001b[0m\u001b[0m\n\u001b[0m",
      "\u001b[0;32m~/utils/miniconda3/lib/python3.8/site-packages/awkward1/highlevel.py\u001b[0m in \u001b[0;36m__getitem__\u001b[0;34m(self, where)\u001b[0m\n\u001b[1;32m    962\u001b[0m         \u001b[0mhave\u001b[0m \u001b[0mthe\u001b[0m \u001b[0msame\u001b[0m \u001b[0mdimension\u001b[0m \u001b[0;32mas\u001b[0m \u001b[0mthe\u001b[0m \u001b[0marray\u001b[0m \u001b[0mbeing\u001b[0m \u001b[0mindexed\u001b[0m\u001b[0;34m.\u001b[0m\u001b[0;34m\u001b[0m\u001b[0;34m\u001b[0m\u001b[0m\n\u001b[1;32m    963\u001b[0m         \"\"\"\n\u001b[0;32m--> 964\u001b[0;31m         \u001b[0;32mreturn\u001b[0m \u001b[0mawkward1\u001b[0m\u001b[0;34m.\u001b[0m\u001b[0m_util\u001b[0m\u001b[0;34m.\u001b[0m\u001b[0mwrap\u001b[0m\u001b[0;34m(\u001b[0m\u001b[0mself\u001b[0m\u001b[0;34m.\u001b[0m\u001b[0m_layout\u001b[0m\u001b[0;34m[\u001b[0m\u001b[0mwhere\u001b[0m\u001b[0;34m]\u001b[0m\u001b[0;34m,\u001b[0m \u001b[0mself\u001b[0m\u001b[0;34m.\u001b[0m\u001b[0m_behavior\u001b[0m\u001b[0;34m)\u001b[0m\u001b[0;34m\u001b[0m\u001b[0;34m\u001b[0m\u001b[0m\n\u001b[0m\u001b[1;32m    965\u001b[0m \u001b[0;34m\u001b[0m\u001b[0m\n\u001b[1;32m    966\u001b[0m     \u001b[0;32mdef\u001b[0m \u001b[0m__setitem__\u001b[0m\u001b[0;34m(\u001b[0m\u001b[0mself\u001b[0m\u001b[0;34m,\u001b[0m \u001b[0mwhere\u001b[0m\u001b[0;34m,\u001b[0m \u001b[0mwhat\u001b[0m\u001b[0;34m)\u001b[0m\u001b[0;34m:\u001b[0m\u001b[0;34m\u001b[0m\u001b[0;34m\u001b[0m\u001b[0m\n",
      "\u001b[0;31mValueError\u001b[0m: in ListArray64 attempting to get 0, index out of range\n\n(https://github.com/scikit-hep/awkward-1.0/blob/0.4.5/src/cpu-kernels/awkward_NumpyArray_getitem_next_at.cpp#L21)"
     ]
    }
   ],
   "source": [
    "print(arr[0])\n",
    "print(arr[0, 0])\n",
    "print(arr[[0,2]])\n",
    "print(arr[0, [0,2]])\n",
    "print(arr[:, 0])"
   ]
  },
  {
   "cell_type": "markdown",
   "metadata": {},
   "source": [
    "Here's the same issue with zero length. We use the 'mask' to fix this potential problem\n",
    "\n",
    "The **bool array** can be applied as a **filter** like this"
   ]
  },
  {
   "cell_type": "code",
   "execution_count": 12,
   "metadata": {},
   "outputs": [
    {
     "name": "stdout",
     "output_type": "stream",
     "text": [
      "1D filter\n",
      "[True, True, False, True, True]\n",
      "[[1, 2, 3], [4, 5], [6], [7, 8]]\n",
      "2D filter\n",
      "[[False, True, False], [True, False], [], [True], [False, True]]\n",
      "[[2], [4], [], [6], [8]]\n"
     ]
    }
   ],
   "source": [
    "print('1D filter')\n",
    "print(ak.num(arr) >= 1)\n",
    "print(arr[ak.num(arr) >= 1])\n",
    "\n",
    "print('2D filter')\n",
    "print(arr % 2 == 0)\n",
    "print(arr[arr % 2 == 0])"
   ]
  },
  {
   "cell_type": "markdown",
   "metadata": {},
   "source": [
    ".. and can also be applied as a **mask**"
   ]
  },
  {
   "cell_type": "code",
   "execution_count": 13,
   "metadata": {},
   "outputs": [
    {
     "name": "stdout",
     "output_type": "stream",
     "text": [
      "1D filter\n",
      "[True, True, False, True, True]\n",
      "[[1, 2, 3], [4, 5], None, [6], [7, 8]]\n",
      "2D filter\n",
      "[[False, True, False], [True, False], [], [True], [False, True]]\n",
      "[[None, 2, None], [4, None], [], [6], [None, 8]]\n"
     ]
    }
   ],
   "source": [
    "print('1D filter')\n",
    "print(ak.num(arr) >= 1)\n",
    "print(ak.mask(arr, ak.num(arr) >= 1))\n",
    "\n",
    "print('2D filter')\n",
    "print(arr % 2 == 0)\n",
    "print(ak.mask(arr, arr % 2 == 0))"
   ]
  },
  {
   "cell_type": "markdown",
   "metadata": {},
   "source": [
    "The unqualified structure (NB. the \"structure\" can either be 2D or 1D, or in any dimension) is masked as None\n",
    "\n",
    "An equivalent expression is"
   ]
  },
  {
   "cell_type": "code",
   "execution_count": 14,
   "metadata": {},
   "outputs": [
    {
     "name": "stdout",
     "output_type": "stream",
     "text": [
      "1D filter\n",
      "[[1, 2, 3], [4, 5], None, [6], [7, 8]]\n",
      "2D filter\n",
      "[[None, 2, None], [4, None], [], [6], [None, 8]]\n"
     ]
    }
   ],
   "source": [
    "print('1D filter')\n",
    "print(arr.mask[ak.num(arr) >= 1])\n",
    "\n",
    "print('2D filter')\n",
    "print(arr.mask[arr % 2 == 0])"
   ]
  },
  {
   "cell_type": "markdown",
   "metadata": {},
   "source": [
    ".. and we will use this expression in what follows.\n",
    "\n",
    "By using masks, an array can be processed safely to bypass the indexing error"
   ]
  },
  {
   "cell_type": "code",
   "execution_count": 15,
   "metadata": {},
   "outputs": [
    {
     "name": "stdout",
     "output_type": "stream",
     "text": [
      "[[1, 2, 3], [4, 5], [], [6], [7, 8]]\n",
      "[[1, 2, 3], [4, 5], None, [6], [7, 8]]\n",
      "[1, 4, None, 6, 7]\n"
     ]
    }
   ],
   "source": [
    "print(arr)\n",
    "\n",
    "arr_masked = arr.mask[ak.num(arr) > 0]\n",
    "print(arr_masked)\n",
    "print(arr_masked[:, 0])"
   ]
  },
  {
   "cell_type": "markdown",
   "metadata": {},
   "source": [
    "the `None` entry always inherits its ancestor. **This is a very useful feature when exploring data in the columnar way.**\n",
    "\n",
    "--------\n",
    "\n",
    "Coming back to the Delphes ROOT file analysis.\n",
    "\n",
    "We can impose selection to the leading and subleading jet:"
   ]
  },
  {
   "cell_type": "code",
   "execution_count": 16,
   "metadata": {},
   "outputs": [
    {
     "name": "stdout",
     "output_type": "stream",
     "text": [
      "[5, 3, 4, 8, 3, 11, 3, 6, 6, 5, 3, 5, 5, ... 5, 5, 8, 5, 6, 4, 8, 6, 5, 4, 5, 7, 7]\n",
      "[True, True, True, True, True, True, True, ... True, True, True, True, True, True]\n",
      "[False, True, False, False, False, True, ... False, False, False, False, False, True]\n"
     ]
    }
   ],
   "source": [
    "print(tree['Jet_size']) ## this is also a delphes branch\n",
    "\n",
    "jet_mask = tree['Jet_size'] >= 2\n",
    "print(jet_mask)\n",
    "\n",
    "jet_sel = (tree['Jet.PT'].mask[jet_mask][:,0] > 500) & (tree['Jet.PT'].mask[jet_mask][:,1] > 200)  ## nb. it is a must to add '()' when using bitwise operator & |\n",
    "print(jet_sel)"
   ]
  },
  {
   "cell_type": "markdown",
   "metadata": {},
   "source": [
    "Zipping is a useful feature for multi-variable analysis"
   ]
  },
  {
   "cell_type": "code",
   "execution_count": 17,
   "metadata": {},
   "outputs": [],
   "source": [
    "jets = ak.zip({\n",
    "    'pt': tree['Jet.PT'],\n",
    "    'eta': tree['Jet.Eta'],\n",
    "})\n",
    "jets = jets.mask[tree['Jet_size'] >= 2]"
   ]
  },
  {
   "cell_type": "markdown",
   "metadata": {},
   "source": [
    "`pt` and `eta` are fields of a awkward array"
   ]
  },
  {
   "cell_type": "code",
   "execution_count": 10,
   "metadata": {},
   "outputs": [
    {
     "name": "stdout",
     "output_type": "stream",
     "text": [
      "[[{pt: 297, eta: 0.0524}, {pt: 159, eta: -1.41, ... {pt: 57, eta: -1.62}]]\n"
     ]
    }
   ],
   "source": [
    "print(jets)"
   ]
  },
  {
   "cell_type": "markdown",
   "metadata": {},
   "source": [
    "Apply selections in a simple way like this (nb. `numpy` ufunc can be applied directly the to awkward array)"
   ]
  },
  {
   "cell_type": "code",
   "execution_count": 18,
   "metadata": {},
   "outputs": [
    {
     "name": "stdout",
     "output_type": "stream",
     "text": [
      "[False, True, False, False, False, True, ... False, False, False, False, False, True]\n",
      "[None, [{pt: 641, eta: 2.08}, {pt: 529, ... eta: -0.921}, {pt: 57, eta: -1.62}]]\n"
     ]
    }
   ],
   "source": [
    "jet_sel = (jets['pt'][:,0] > 500) & (jets['pt'][:,1] > 300) & (np.abs(jets['eta'][:,0]) < 2.5) & (np.abs(jets['eta'][:,1]) < 2.5)\n",
    "print(jet_sel)\n",
    "print(jets.mask[jet_sel])"
   ]
  },
  {
   "cell_type": "markdown",
   "metadata": {},
   "source": [
    "Fields can also be accessed by attributes. The above is equivalent as"
   ]
  },
  {
   "cell_type": "code",
   "execution_count": 19,
   "metadata": {},
   "outputs": [
    {
     "name": "stdout",
     "output_type": "stream",
     "text": [
      "[False, True, False, False, False, True, ... False, False, False, False, False, True]\n",
      "[None, [{pt: 641, eta: 2.08}, {pt: 529, ... eta: -0.921}, {pt: 57, eta: -1.62}]]\n"
     ]
    }
   ],
   "source": [
    "jet_sel = (jets.pt[:,0] > 500) & (jets.pt[:,1] > 300) & (np.abs(jets.eta[:,0]) < 2.5) & (np.abs(jets.eta[:,1]) < 2.5)\n",
    "print(jet_sel)\n",
    "print(jets.mask[jet_sel])"
   ]
  },
  {
   "cell_type": "markdown",
   "metadata": {},
   "source": [
    "`coffea` provides a powerful feature to impose specific behaviours to awkward arrays"
   ]
  },
  {
   "cell_type": "code",
   "execution_count": 20,
   "metadata": {},
   "outputs": [],
   "source": [
    "from coffea.nanoevents.methods import vector\n",
    "ak.behavior.update(vector.behavior) ## let ak-array to recognize LorentzVector behaviour\n",
    "\n",
    "jets = ak.zip({\n",
    "    'pt':     tree['Jet.PT'],    # this field is necessary for PtEtaPhiMLorentzVector\n",
    "    'eta':    tree['Jet.Eta'],   # this field is necessary for PtEtaPhiMLorentzVector\n",
    "    'phi':    tree['Jet.Phi'],   # this field is necessary for PtEtaPhiMLorentzVector\n",
    "    'mass':   tree['Jet.Mass'],  # this field is necessary for PtEtaPhiMLorentzVector\n",
    "    'charge': tree['Jet.Charge'],# additional fields are allowed\n",
    "    'btag':   tree['Jet.BTag'],  # additional fields are allowed\n",
    "}, with_name=\"PtEtaPhiMLorentzVector\") # use \"PtEtaPhiMLorentzVector\" behaviour\n",
    "\n",
    "jets = jets.mask[tree['Jet_size'] >= 2] # requires >=2 jets\n",
    "\n",
    "electrons = ak.zip({\n",
    "    'pt':     tree['Electron.PT'],\n",
    "    'eta':    tree['Electron.Eta'],\n",
    "    'phi':    tree['Electron.Phi'],\n",
    "    'mass':   ak.ones_like(tree['Electron.PT']) * 0.000511, # notice this trick\n",
    "    'charge': tree['Electron.Charge'], # additional fields are allowed\n",
    "}, with_name=\"PtEtaPhiMLorentzVector\")\n",
    "\n",
    "electrons = electrons.mask[tree['Electron_size'] >= 1] # requires >=1 electron"
   ]
  },
  {
   "cell_type": "markdown",
   "metadata": {},
   "source": [
    "Now we can do more **fancy selections**.\n",
    "\n",
    "Use facilities like"
   ]
  },
  {
   "cell_type": "code",
   "execution_count": 21,
   "metadata": {},
   "outputs": [
    {
     "data": {
      "text/plain": [
       "<Array [3.37, None, None, ... None, None, None] type='500000 * ?float32'>"
      ]
     },
     "execution_count": 21,
     "metadata": {},
     "output_type": "execute_result"
    }
   ],
   "source": [
    "## ΔR between leading jet and leading electrons\n",
    "\n",
    "jets[:,0].delta_r(electrons[:,0])"
   ]
  },
  {
   "cell_type": "markdown",
   "metadata": {},
   "source": [
    "Oops.. not many electrons in the event.\n",
    "\n",
    "(We now obtain the event index with N(ele)≥1 ele and N(jet)≥2, just for a prettier printout)"
   ]
  },
  {
   "cell_type": "code",
   "execution_count": 22,
   "metadata": {},
   "outputs": [
    {
     "name": "stdout",
     "output_type": "stream",
     "text": [
      "event idx: [0, 10, 12, 26, 40, 47, 53, ... 499953, 499957, 499981, 499982, 499985, 499991]\n",
      "[3.37, 3.01, 3.19, 3.16, 2.63, 3.05, 2.45, ... 2.88, 3.04, 2.88, 2.72, 2.81, 3.07]\n"
     ]
    }
   ],
   "source": [
    "has_obj = ak.where((tree['Electron_size'] >= 1) & (tree['Jet_size'] >= 2))[0]\n",
    "                       \n",
    "print('event idx:', has_obj) \n",
    "print(jets[:,0].delta_r(electrons[:,0])[has_obj])"
   ]
  },
  {
   "cell_type": "code",
   "execution_count": 23,
   "metadata": {},
   "outputs": [
    {
     "name": "stdout",
     "output_type": "stream",
     "text": [
      "[[3.37, 0.58, 3.65, 3.41, 3.94], [3.01, ... [3.07, 3.03, 2.02, 1.59, 1.29, 1.62]]\n"
     ]
    }
   ],
   "source": [
    "## ΔR between leading electron and *all* jets\n",
    "\n",
    "dr_e1_jets = electrons[:,0].delta_r(jets)\n",
    "print(dr_e1_jets[has_obj]) # 2D structure"
   ]
  },
  {
   "cell_type": "code",
   "execution_count": 24,
   "metadata": {},
   "outputs": [
    {
     "name": "stdout",
     "output_type": "stream",
     "text": [
      "idx:  [1, 1, 3, 2, 2, 1, 1, 1, 2, 1, 1, 2, 2, 1, ... 0, 1, 4, 0, 2, 1, 6, 1, 2, 1, 2, 3, 4]\n",
      "nested idx:  [[1], [1], [3], [2], [2], [1], [1], [1], ... [1], [6], [1], [2], [1], [2], [3], [4]]\n",
      "closest jet [{pt: 159, eta: -1.41, phi: 2.8, mass: 8.31, charge: 1, ... charge: 1, btag: 0}]\n",
      "final jet chosen [159, 84.6, 116, 88.7, 199, 265, 97.7, 193, ... None, 730, None, 208, None, None, 61]\n"
     ]
    }
   ],
   "source": [
    "## find the closest jet matched to the leading electron, and require that jet pT>50\n",
    "\n",
    "dr_e1_jets = electrons[:,0].delta_r(jets)\n",
    "\n",
    "# sort the ΔR and find the index for smallest ΔR in each event\n",
    "dr_e1_jets_minidx = ak.argmin(dr_e1_jets, axis=1)\n",
    "print('idx: ', dr_e1_jets_minidx[has_obj])\n",
    "\n",
    "# wrap into a 2D nest structure\n",
    "dr_e1_jets_minidx = ak.singletons(dr_e1_jets_minidx)\n",
    "print('nested idx: ', dr_e1_jets_minidx[has_obj])\n",
    "\n",
    "# pick the jet from the \"jets\" containers\n",
    "jet_closest = jets.mask[ak.num(dr_e1_jets_minidx)>0][dr_e1_jets_minidx][:,0] # what does it mean?\n",
    "print('closest jet', jet_closest[has_obj])\n",
    "\n",
    "# require pT>50\n",
    "selected_jet_pt = jet_closest.mask[jet_closest.pt > 50].pt\n",
    "print('final jet chosen', selected_jet_pt[has_obj])"
   ]
  },
  {
   "cell_type": "markdown",
   "metadata": {},
   "source": [
    "We can draw the plots using `mplhep` facility to mimic the ROOT style.\n",
    "\n",
    "`boost_histogram` is a python interface to C++ boost::histogram libraries that enables fast histogramming."
   ]
  },
  {
   "cell_type": "code",
   "execution_count": 25,
   "metadata": {},
   "outputs": [
    {
     "name": "stderr",
     "output_type": "stream",
     "text": [
      "findfont: Font family ['cursive'] not found. Falling back to DejaVu Sans.\n"
     ]
    },
    {
     "data": {
      "image/png": "[encoded data removed]",
      "text/plain": [
       "<Figure size 720x720 with 1 Axes>"
      ]
     },
     "metadata": {
      "needs_background": "light"
     },
     "output_type": "display_data"
    }
   ],
   "source": [
    "import boost_histogram as bh\n",
    "import mplhep as hep\n",
    "import matplotlib.pyplot as plt\n",
    "plt.style.use(hep.style.ROOT)\n",
    "\n",
    "nbin, xmin, xmax = 40, 0, 800\n",
    "\n",
    "hist = bh.Histogram(bh.axis.Regular(nbin, xmin, xmax), storage=bh.storage.Weight())\n",
    "hist.fill(ak.fill_none(jet_closest.mask[jet_closest.pt > 50].pt, 1e20)) # replace None value with 1e20\n",
    "content, yerr = hist.view().value, np.sqrt(hist.view().variance)\n",
    "\n",
    "f, ax = plt.subplots(figsize=(10,10))\n",
    "hep.histplot(content, bins=hist.axes[0].edges, yerr=yerr)\n",
    "ax.set_xlabel(r'Jet $p_{T}$ closest to leading electron [GeV]', ha='right', x=1.0); ax.set_ylabel('Events / bins', ha='right', y=1.0);"
   ]
  },
  {
   "cell_type": "markdown",
   "metadata": {},
   "source": [
    "**More complecate case:** \n",
    "\n",
    "Find all jets that are ΔR matched to the each of the fatjet"
   ]
  },
  {
   "cell_type": "code",
   "execution_count": 26,
   "metadata": {},
   "outputs": [],
   "source": [
    "## Get the fatjet containers\n",
    "fatjets = ak.zip({\n",
    "    'pt':     tree['FatJet.PT'],\n",
    "    'eta':    tree['FatJet.Eta'],\n",
    "    'phi':    tree['FatJet.Phi'],\n",
    "    'mass':   tree['FatJet.Mass'],\n",
    "    'charge': tree['FatJet.Charge'],# additional fields are allowed\n",
    "}, with_name=\"PtEtaPhiMLorentzVector\") # use \"PtEtaPhiMLorentzVector\" behaviour\n",
    "\n",
    "fatjets = fatjets.mask[tree['FatJet_size'] >= 1] # requires >=1 fatjets"
   ]
  },
  {
   "cell_type": "markdown",
   "metadata": {},
   "source": [
    "A classical method is to write a event -> fatjet -> jet 3-layer nested **\"for\" loop** to get the qualified jets matched for each fatjet\n",
    "\n",
    "For all `numpy` ufunc, one can use `numba.jit` to speed up. The feature is supported by awkward-array by using `ArrayBuilder` to build arrays"
   ]
  },
  {
   "cell_type": "code",
   "execution_count": 27,
   "metadata": {},
   "outputs": [],
   "source": [
    "import numba as nb\n",
    "\n",
    "@nb.njit\n",
    "def match_nearby_jets_for_fatjet(builder, event_fatjets, event_jets):\n",
    "    \"\"\"return builder ak-array by looping over events. \n",
    "    \"\"\"\n",
    "    \n",
    "    for ie in range(len(event_fatjets)):\n",
    "        fjs, js = event_fatjets[ie], event_jets[ie]\n",
    "        if fjs is None or js is None:\n",
    "            builder.null()\n",
    "        else:\n",
    "            builder.begin_list()\n",
    "            for fj in fjs:\n",
    "                builder.begin_list()\n",
    "                for ij, j in enumerate(js):\n",
    "                    if np.sqrt((j.phi - fj.phi)**2 + (j.eta - fj.eta)**2) <= 1.5:  # unfortuntely we cannot use `delta_r` in njit compile mode\n",
    "                        builder.integer(ij) ## store the index of jets\n",
    "                builder.end_list()\n",
    "            builder.end_list()\n",
    "    return builder"
   ]
  },
  {
   "cell_type": "code",
   "execution_count": 28,
   "metadata": {},
   "outputs": [
    {
     "name": "stdout",
     "output_type": "stream",
     "text": [
      "[[[0, 2, 3], [1]], [[1, 2], [0]], [[0, ... 1, 2, 5], [0, 3, 6]], [[0, 2], [1, 5, 6]]]\n",
      "CPU times: user 4.55 s, sys: 134 ms, total: 4.69 s\n",
      "Wall time: 4.68 s\n"
     ]
    }
   ],
   "source": [
    "%%time\n",
    "\n",
    "match_idx = ak.ArrayBuilder()\n",
    "match_idx = match_nearby_jets_for_fatjet(match_idx, fatjets, jets)\n",
    "\n",
    "print(match_idx.snapshot())"
   ]
  },
  {
   "cell_type": "markdown",
   "metadata": {},
   "source": [
    "The time **(~ 4s)** can represent the compiled c++ code handling the same event-processing. \n",
    "\n",
    "Without `njit`, i.e. using the bare python, it takes **~15min 33s**\n",
    "\n",
    "Now try to repeat the procedure using the spirit of columnar data analysis "
   ]
  },
  {
   "cell_type": "code",
   "execution_count": 29,
   "metadata": {},
   "outputs": [
    {
     "name": "stdout",
     "output_type": "stream",
     "text": [
      "view 1st event \n",
      "\tfatjet:  [431, 394] \n",
      "\tjet: [297, 159, 68.4, 50.5, 35.1] \n",
      "\tcatesian structure:  [[({pt: 431, eta: 0.165, phi: -0.718, mass: 187, ... charge: -1, btag: 0})]]\n",
      "view 1st event delta_r structure [[True, False, True, True, False], [False, True, False, False, False]]\n",
      "view 1st event index structure [[True, False, True, True, False], [False, True, False, False, False]]\n",
      "\n",
      "now we get the same result [[[0, 2, 3], [1]], [[1, 2], [0]], [[0, ... 1, 2, 5], [0, 3, 6]], [[0, 2], [1, 5, 6]]]\n",
      "CPU times: user 2.82 s, sys: 566 ms, total: 3.38 s\n",
      "Wall time: 3.38 s\n"
     ]
    }
   ],
   "source": [
    "%%time\n",
    "\n",
    "## Nested structure of all combinations of (fatjet, jet) pairs (based on fatjet structure), which is a 3D nested array\n",
    "carts_fj_jet = ak.cartesian([fatjets, jets], nested=True)\n",
    "print('view 1st event', '\\n\\tfatjet: ', fatjets[0].pt, '\\n\\tjet:', jets[0].pt, '\\n\\tcatesian structure: ', carts_fj_jet[0])\n",
    "\n",
    "## Bool arrays for pairs with dr<1.5\n",
    "carts_fj_jet_dr = carts_fj_jet['0'].delta_r(carts_fj_jet['1']) <= 1.5  ## field indicator ['0'] is equiv as attribute .slot0 \n",
    "print('view 1st event', 'delta_r structure', carts_fj_jet_dr[0])\n",
    "\n",
    "## Make a full numeric index of 'carts_fj_jet_dr' structure (perhaps we have better way)\n",
    "carts_fj_jet_dr_fullidx = ak.argcombinations(carts_fj_jet_dr, 1, axis=2)['0']\n",
    "print('view 1st event', 'index structure', carts_fj_jet_dr[0])\n",
    "\n",
    "match_idx_2 = carts_fj_jet_dr_fullidx[carts_fj_jet_dr]\n",
    "print('\\nnow we get the same result', match_idx_2)"
   ]
  },
  {
   "cell_type": "markdown",
   "metadata": {},
   "source": [
    "Using the columnar workflow even outperform the compiled code for big \"for\" loops.\n",
    "\n",
    "Here is a illustration for catesian. Nb: we further nested the combined structure into the 3rd dimension, using `nest=True`\n",
    "\n",
    "![cartoon-cartesian.png](figures/cartoon-cartesian.png)"
   ]
  },
  {
   "cell_type": "markdown",
   "metadata": {},
   "source": [
    "More materials at\n",
    " - https://github.com/jpivarski-talks/2020-07-13-pyhep2020-tutorial/blob/master/tutorial-EVALUATED.ipynb (PyHEP talk)\n",
    " - https://coffeateam.github.io/coffea/notebooks/processor.html#Getting-fancy (coffea example using awkward1)\n",
    " - https://awkward-array.org/quickstart.html\n",
    "\n",
    "Note: a lot of functions adhere to `awkward0` are not deprecated, e.g. uproot-method (TLorentzVectorArray), JaggedArray...\n",
    "\n",
    "It is perhaps wiser to keep updates with the `awkward1` progress"
   ]
  }
 ],
 "metadata": {
  "kernelspec": {
   "display_name": "Python 3",
   "language": "python",
   "name": "python3"
  },
  "language_info": {
   "codemirror_mode": {
    "name": "ipython",
    "version": 3
   },
   "file_extension": ".py",
   "mimetype": "text/x-python",
   "name": "python",
   "nbconvert_exporter": "python",
   "pygments_lexer": "ipython3",
   "version": "3.8.3"
  }
 },
 "nbformat": 4,
 "nbformat_minor": 4
}
